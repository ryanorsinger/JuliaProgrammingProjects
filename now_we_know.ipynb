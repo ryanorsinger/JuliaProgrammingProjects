{
 "cells": [
  {
   "cell_type": "markdown",
   "metadata": {},
   "source": [
    "## Regex "
   ]
  },
  {
   "cell_type": "code",
   "execution_count": 3,
   "metadata": {},
   "outputs": [
    {
     "data": {
      "text/plain": [
       "Regex"
      ]
     },
     "execution_count": 3,
     "metadata": {},
     "output_type": "execute_result"
    }
   ],
   "source": [
    "# r\"string\" actually means regex string, not raw string\n",
    "typeof(r\"foo\")"
   ]
  },
  {
   "cell_type": "code",
   "execution_count": 9,
   "metadata": {},
   "outputs": [
    {
     "name": "stdout",
     "output_type": "stream",
     "text": [
      "VersionNumber\n",
      "Base.CodeUnits{UInt8, String}\n"
     ]
    }
   ],
   "source": [
    "# Other literal options\n",
    "println(typeof(v\"1.2.3\"))\n",
    "println(typeof(b\"byte array literals\"))\n",
    "# println(typeof(pkg\"package\")) doesn't work in notebooks? yet, not sure..."
   ]
  },
  {
   "cell_type": "code",
   "execution_count": 11,
   "metadata": {},
   "outputs": [
    {
     "data": {
      "text/plain": [
       "RegexMatch(\"1970\")"
      ]
     },
     "execution_count": 11,
     "metadata": {},
     "output_type": "execute_result"
    }
   ],
   "source": [
    "reg = r\"[0-9]+\"  # find one or more numerals\n",
    "match(reg, \"It was 1970.. it was UNIX Epoch Time!\")"
   ]
  },
  {
   "cell_type": "markdown",
   "metadata": {},
   "source": [
    "##### Some Regex modifiers that come after the regex object...\n",
    "- `r\"stuff\"i` makes the regex case insensitive\n",
    "- `r\"stuff\"m` treats the string as multiple lines\n",
    "- `r\"stuff\"s` treats string as a single line\n",
    "- `r\"stuff\"x` tells the regex parser to ignore most whitespace that is neither backslashed nor within a character class. This can be used to break up regular expressions into slightly more readable parts. `#` is also treated as a metacharacter introducing a comment...\n",
    "\n",
    "Once we have a match object from `m = match(r\"nan\"i, \"BANANA\")`, we can acccess:\n",
    "- `m.match` cntains the entire substring that matched\n",
    "- `m.captures`\n",
    "- `m.offset`\n",
    "- `m.offsets`"
   ]
  },
  {
   "cell_type": "code",
   "execution_count": 14,
   "metadata": {},
   "outputs": [
    {
     "data": {
      "text/plain": [
       "RegexMatch(\"It was\")"
      ]
     },
     "execution_count": 14,
     "metadata": {},
     "output_type": "execute_result"
    }
   ],
   "source": [
    "match(r\"it was\"i, \"It was 1970\")"
   ]
  },
  {
   "cell_type": "code",
   "execution_count": 16,
   "metadata": {},
   "outputs": [
    {
     "data": {
      "text/plain": [
       "true"
      ]
     },
     "execution_count": 16,
     "metadata": {},
     "output_type": "execute_result"
    }
   ],
   "source": [
    "occursin(r\"hello\"i, \"HELLO, there!\")"
   ]
  },
  {
   "cell_type": "code",
   "execution_count": 17,
   "metadata": {},
   "outputs": [
    {
     "data": {
      "text/plain": [
       "false"
      ]
     },
     "execution_count": 17,
     "metadata": {},
     "output_type": "execute_result"
    }
   ],
   "source": [
    "occursin(r\"kiwi\", \"banana\")"
   ]
  },
  {
   "cell_type": "code",
   "execution_count": 18,
   "metadata": {},
   "outputs": [
    {
     "data": {
      "text/plain": [
       "RegexMatch(\"nana\")"
      ]
     },
     "execution_count": 18,
     "metadata": {},
     "output_type": "execute_result"
    }
   ],
   "source": [
    "match(r\"nana\", \"banana\")"
   ]
  },
  {
   "cell_type": "code",
   "execution_count": 19,
   "metadata": {},
   "outputs": [
    {
     "data": {
      "text/plain": [
       "RegexMatch(\"banana\")"
      ]
     },
     "execution_count": 19,
     "metadata": {},
     "output_type": "execute_result"
    }
   ],
   "source": [
    "# Match all letters\n",
    "match(r\"[a-zA-Z]*\", \"banana rama 123 kiwi\")"
   ]
  },
  {
   "cell_type": "code",
   "execution_count": 22,
   "metadata": {},
   "outputs": [
    {
     "data": {
      "text/plain": [
       "5-element Vector{RegexMatch}:\n",
       " RegexMatch(\"a\")\n",
       " RegexMatch(\"ft\")\n",
       " RegexMatch(\"tall\")\n",
       " RegexMatch(\"kiwi\")\n",
       " RegexMatch(\"fruit\")"
      ]
     },
     "execution_count": 22,
     "metadata": {},
     "output_type": "execute_result"
    }
   ],
   "source": [
    "# If we want greedy evaluation to get all matches of 1 or more letters\n",
    "collect(eachmatch(r\"[a-zA-Z]+\", \"a 23ft tall kiwi fruit\"))"
   ]
  },
  {
   "cell_type": "code",
   "execution_count": 26,
   "metadata": {},
   "outputs": [
    {
     "data": {
      "text/plain": [
       "RegexMatch(\"nana\")"
      ]
     },
     "execution_count": 26,
     "metadata": {},
     "output_type": "execute_result"
    }
   ],
   "source": [
    "match(r\"nana\"x, \"a \\t banana nana\")"
   ]
  },
  {
   "cell_type": "code",
   "execution_count": 30,
   "metadata": {},
   "outputs": [
    {
     "data": {
      "text/plain": [
       "2-element Vector{RegexMatch}:\n",
       " RegexMatch(\"nana\")\n",
       " RegexMatch(\"nana\")"
      ]
     },
     "execution_count": 30,
     "metadata": {},
     "output_type": "execute_result"
    }
   ],
   "source": [
    "collect(eachmatch(r\"nana\", \"a \\t banana nana23\"))"
   ]
  },
  {
   "cell_type": "code",
   "execution_count": null,
   "metadata": {},
   "outputs": [],
   "source": []
  }
 ],
 "metadata": {
  "kernelspec": {
   "display_name": "Julia 1.6.2",
   "language": "julia",
   "name": "julia-1.6"
  },
  "language_info": {
   "file_extension": ".jl",
   "mimetype": "application/julia",
   "name": "julia",
   "version": "1.6.2"
  }
 },
 "nbformat": 4,
 "nbformat_minor": 4
}
